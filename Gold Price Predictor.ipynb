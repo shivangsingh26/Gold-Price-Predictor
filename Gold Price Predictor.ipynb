{
 "cells":[
  {
   "cell_type":"code",
   "source":[
    "#IMPORTING THE LIBRARIES\n",
    "\n",
    "import numpy as np\n",
    "import pandas as pd\n",
    "import matplotlib.pyplot as plt\n",
    "import seaborn as sns\n",
    "from sklearn.model_selection import train_test_split #used to split data into training and test data\n",
    "from sklearn.ensemble import RandomForestRegressor #Used to make ML model\n",
    "from sklearn import metrics #used to evaluate accuracy score of model means error and accuracy scores"
   ],
   "execution_count":null,
   "outputs":[
    
   ],
   "metadata":{
    "datalore":{
     "node_id":"8lTL2lU5Ruhyo8pjcQBHcE",
     "type":"CODE",
     "hide_input_from_viewers":false,
     "hide_output_from_viewers":false,
     "report_properties":{
      "y":0
     }
    }
   }
  },
  {
   "cell_type":"code",
   "source":[
    "#Loading the data from csv to a data frame\n",
    "gold_df = pd.read_csv('\/data\/notebook_files\/gld_price_data.csv')"
   ],
   "execution_count":null,
   "outputs":[
    
   ],
   "metadata":{
    "datalore":{
     "node_id":"aoTq7y02tRsBhzhhz0QXhg",
     "type":"CODE",
     "hide_input_from_viewers":false,
     "hide_output_from_viewers":false,
     "report_properties":{
      "y":6
     }
    }
   }
  },
  {
   "cell_type":"code",
   "source":[
    "#Now we will understand the data first\n",
    "gold_df.head()"
   ],
   "execution_count":null,
   "outputs":[
    {
     "data":{
      "text\/html":[
       "<div>\n",
       "<style scoped>\n",
       "    .dataframe tbody tr th:only-of-type {\n",
       "        vertical-align: middle;\n",
       "    }\n",
       "\n",
       "    .dataframe tbody tr th {\n",
       "        vertical-align: top;\n",
       "    }\n",
       "\n",
       "    .dataframe thead th {\n",
       "        text-align: right;\n",
       "    }\n",
       "<\/style>\n",
       "<table border=\"1\" class=\"dataframe\">\n",
       "  <thead>\n",
       "    <tr style=\"text-align: right;\">\n",
       "      <th><\/th>\n",
       "      <th>Date<\/th>\n",
       "      <th>SPX<\/th>\n",
       "      <th>GLD<\/th>\n",
       "      <th>USO<\/th>\n",
       "      <th>SLV<\/th>\n",
       "      <th>EUR\/USD<\/th>\n",
       "    <\/tr>\n",
       "  <\/thead>\n",
       "  <tbody>\n",
       "    <tr>\n",
       "      <th>0<\/th>\n",
       "      <td>1\/2\/2008<\/td>\n",
       "      <td>1447.160034<\/td>\n",
       "      <td>84.860001<\/td>\n",
       "      <td>78.470001<\/td>\n",
       "      <td>15.180<\/td>\n",
       "      <td>1.471692<\/td>\n",
       "    <\/tr>\n",
       "    <tr>\n",
       "      <th>1<\/th>\n",
       "      <td>1\/3\/2008<\/td>\n",
       "      <td>1447.160034<\/td>\n",
       "      <td>85.570000<\/td>\n",
       "      <td>78.370003<\/td>\n",
       "      <td>15.285<\/td>\n",
       "      <td>1.474491<\/td>\n",
       "    <\/tr>\n",
       "    <tr>\n",
       "      <th>2<\/th>\n",
       "      <td>1\/4\/2008<\/td>\n",
       "      <td>1411.630005<\/td>\n",
       "      <td>85.129997<\/td>\n",
       "      <td>77.309998<\/td>\n",
       "      <td>15.167<\/td>\n",
       "      <td>1.475492<\/td>\n",
       "    <\/tr>\n",
       "    <tr>\n",
       "      <th>3<\/th>\n",
       "      <td>1\/7\/2008<\/td>\n",
       "      <td>1416.180054<\/td>\n",
       "      <td>84.769997<\/td>\n",
       "      <td>75.500000<\/td>\n",
       "      <td>15.053<\/td>\n",
       "      <td>1.468299<\/td>\n",
       "    <\/tr>\n",
       "    <tr>\n",
       "      <th>4<\/th>\n",
       "      <td>1\/8\/2008<\/td>\n",
       "      <td>1390.189941<\/td>\n",
       "      <td>86.779999<\/td>\n",
       "      <td>76.059998<\/td>\n",
       "      <td>15.590<\/td>\n",
       "      <td>1.557099<\/td>\n",
       "    <\/tr>\n",
       "  <\/tbody>\n",
       "<\/table>\n",
       "<\/div>"
      ]
     },
     "metadata":{
      
     },
     "output_type":"display_data"
    }
   ],
   "metadata":{
    "datalore":{
     "node_id":"IJPRxX8DvEOQZ1geN4Iu9z",
     "type":"CODE",
     "hide_input_from_viewers":false,
     "hide_output_from_viewers":false,
     "report_properties":{
      "y":9
     }
    }
   }
  },
  {
   "cell_type":"code",
   "source":[
    "#Printing data from last\n",
    "gold_df.tail"
   ],
   "execution_count":null,
   "outputs":[
    {
     "data":{
      "text\/plain":[
       "<bound method NDFrame.tail of            Date          SPX         GLD        USO      SLV   EUR\/USD\n",
       "0      1\/2\/2008  1447.160034   84.860001  78.470001  15.1800  1.471692\n",
       "1      1\/3\/2008  1447.160034   85.570000  78.370003  15.2850  1.474491\n",
       "2      1\/4\/2008  1411.630005   85.129997  77.309998  15.1670  1.475492\n",
       "3      1\/7\/2008  1416.180054   84.769997  75.500000  15.0530  1.468299\n",
       "4      1\/8\/2008  1390.189941   86.779999  76.059998  15.5900  1.557099\n",
       "...         ...          ...         ...        ...      ...       ...\n",
       "2285   5\/8\/2018  2671.919922  124.589996  14.060000  15.5100  1.186789\n",
       "2286   5\/9\/2018  2697.790039  124.330002  14.370000  15.5300  1.184722\n",
       "2287  5\/10\/2018  2723.070068  125.180000  14.410000  15.7400  1.191753\n",
       "2288  5\/14\/2018  2730.129883  124.489998  14.380000  15.5600  1.193118\n",
       "2289  5\/16\/2018  2725.780029  122.543800  14.405800  15.4542  1.182033\n",
       "\n",
       "[2290 rows x 6 columns]>"
      ]
     },
     "metadata":{
      
     },
     "output_type":"display_data"
    }
   ],
   "metadata":{
    "datalore":{
     "node_id":"ruOCjBjWrM84W6D6a28UN7",
     "type":"CODE",
     "hide_input_from_viewers":false,
     "hide_output_from_viewers":false,
     "report_properties":{
      "y":17
     }
    }
   }
  },
  {
   "cell_type":"code",
   "source":[
    "#We can see from head and tail that we have data from the year 2008 - 2018 i.e about 10 years\n",
    "#Now lets see the no of rows and coloumns\n",
    "gold_df.shape"
   ],
   "execution_count":null,
   "outputs":[
    {
     "data":{
      "text\/plain":[
       "(2290, 6)"
      ]
     },
     "metadata":{
      
     },
     "output_type":"display_data"
    }
   ],
   "metadata":{
    "datalore":{
     "node_id":"soWTg3uHgYcJe49x10142e",
     "type":"CODE",
     "hide_input_from_viewers":false,
     "hide_output_from_viewers":false,
     "report_properties":{
      "y":27
     }
    }
   }
  },
  {
   "cell_type":"code",
   "source":[
    "#Getting basic information about data\n",
    "gold_df.info"
   ],
   "execution_count":null,
   "outputs":[
    {
     "data":{
      "text\/plain":[
       "<bound method DataFrame.info of            Date          SPX         GLD        USO      SLV   EUR\/USD\n",
       "0      1\/2\/2008  1447.160034   84.860001  78.470001  15.1800  1.471692\n",
       "1      1\/3\/2008  1447.160034   85.570000  78.370003  15.2850  1.474491\n",
       "2      1\/4\/2008  1411.630005   85.129997  77.309998  15.1670  1.475492\n",
       "3      1\/7\/2008  1416.180054   84.769997  75.500000  15.0530  1.468299\n",
       "4      1\/8\/2008  1390.189941   86.779999  76.059998  15.5900  1.557099\n",
       "...         ...          ...         ...        ...      ...       ...\n",
       "2285   5\/8\/2018  2671.919922  124.589996  14.060000  15.5100  1.186789\n",
       "2286   5\/9\/2018  2697.790039  124.330002  14.370000  15.5300  1.184722\n",
       "2287  5\/10\/2018  2723.070068  125.180000  14.410000  15.7400  1.191753\n",
       "2288  5\/14\/2018  2730.129883  124.489998  14.380000  15.5600  1.193118\n",
       "2289  5\/16\/2018  2725.780029  122.543800  14.405800  15.4542  1.182033\n",
       "\n",
       "[2290 rows x 6 columns]>"
      ]
     },
     "metadata":{
      
     },
     "output_type":"display_data"
    }
   ],
   "metadata":{
    "datalore":{
     "node_id":"d6eb9cgQMLnZ4vZ8Er29hp",
     "type":"CODE",
     "hide_input_from_viewers":false,
     "hide_output_from_viewers":false,
     "report_properties":{
      "y":32
     }
    }
   }
  },
  {
   "cell_type":"code",
   "source":[
    "#Lets look for null values in the dataframe\n",
    "gold_df.isnull().sum()"
   ],
   "execution_count":null,
   "outputs":[
    {
     "data":{
      "text\/html":[
       "<pre>Date       0\n",
       "SPX        0\n",
       "GLD        0\n",
       "USO        0\n",
       "SLV        0\n",
       "EUR\/USD    0\n",
       "dtype: int64<\/pre>"
      ]
     },
     "metadata":{
      
     },
     "output_type":"display_data"
    }
   ],
   "metadata":{
    "datalore":{
     "node_id":"SRfgMhD39JD6Ire2VLT2SA",
     "type":"CODE",
     "hide_input_from_viewers":false,
     "hide_output_from_viewers":false,
     "report_properties":{
      "y":42
     }
    }
   }
  },
  {
   "cell_type":"code",
   "source":[
    "#Table shows 0 missing values so there is no null value present in the data frame\n",
    "#Now lets take a statistical measure of the data\n",
    "gold_df.describe()"
   ],
   "execution_count":null,
   "outputs":[
    {
     "data":{
      "text\/html":[
       "<div>\n",
       "<style scoped>\n",
       "    .dataframe tbody tr th:only-of-type {\n",
       "        vertical-align: middle;\n",
       "    }\n",
       "\n",
       "    .dataframe tbody tr th {\n",
       "        vertical-align: top;\n",
       "    }\n",
       "\n",
       "    .dataframe thead th {\n",
       "        text-align: right;\n",
       "    }\n",
       "<\/style>\n",
       "<table border=\"1\" class=\"dataframe\">\n",
       "  <thead>\n",
       "    <tr style=\"text-align: right;\">\n",
       "      <th><\/th>\n",
       "      <th>SPX<\/th>\n",
       "      <th>GLD<\/th>\n",
       "      <th>USO<\/th>\n",
       "      <th>SLV<\/th>\n",
       "      <th>EUR\/USD<\/th>\n",
       "    <\/tr>\n",
       "  <\/thead>\n",
       "  <tbody>\n",
       "    <tr>\n",
       "      <th>count<\/th>\n",
       "      <td>2290.000000<\/td>\n",
       "      <td>2290.000000<\/td>\n",
       "      <td>2290.000000<\/td>\n",
       "      <td>2290.000000<\/td>\n",
       "      <td>2290.000000<\/td>\n",
       "    <\/tr>\n",
       "    <tr>\n",
       "      <th>mean<\/th>\n",
       "      <td>1654.315776<\/td>\n",
       "      <td>122.732875<\/td>\n",
       "      <td>31.842221<\/td>\n",
       "      <td>20.084997<\/td>\n",
       "      <td>1.283653<\/td>\n",
       "    <\/tr>\n",
       "    <tr>\n",
       "      <th>std<\/th>\n",
       "      <td>519.111540<\/td>\n",
       "      <td>23.283346<\/td>\n",
       "      <td>19.523517<\/td>\n",
       "      <td>7.092566<\/td>\n",
       "      <td>0.131547<\/td>\n",
       "    <\/tr>\n",
       "    <tr>\n",
       "      <th>min<\/th>\n",
       "      <td>676.530029<\/td>\n",
       "      <td>70.000000<\/td>\n",
       "      <td>7.960000<\/td>\n",
       "      <td>8.850000<\/td>\n",
       "      <td>1.039047<\/td>\n",
       "    <\/tr>\n",
       "    <tr>\n",
       "      <th>25%<\/th>\n",
       "      <td>1239.874969<\/td>\n",
       "      <td>109.725000<\/td>\n",
       "      <td>14.380000<\/td>\n",
       "      <td>15.570000<\/td>\n",
       "      <td>1.171313<\/td>\n",
       "    <\/tr>\n",
       "    <tr>\n",
       "      <th>50%<\/th>\n",
       "      <td>1551.434998<\/td>\n",
       "      <td>120.580002<\/td>\n",
       "      <td>33.869999<\/td>\n",
       "      <td>17.268500<\/td>\n",
       "      <td>1.303297<\/td>\n",
       "    <\/tr>\n",
       "    <tr>\n",
       "      <th>75%<\/th>\n",
       "      <td>2073.010070<\/td>\n",
       "      <td>132.840004<\/td>\n",
       "      <td>37.827501<\/td>\n",
       "      <td>22.882500<\/td>\n",
       "      <td>1.369971<\/td>\n",
       "    <\/tr>\n",
       "    <tr>\n",
       "      <th>max<\/th>\n",
       "      <td>2872.870117<\/td>\n",
       "      <td>184.589996<\/td>\n",
       "      <td>117.480003<\/td>\n",
       "      <td>47.259998<\/td>\n",
       "      <td>1.598798<\/td>\n",
       "    <\/tr>\n",
       "  <\/tbody>\n",
       "<\/table>\n",
       "<\/div>"
      ]
     },
     "metadata":{
      
     },
     "output_type":"display_data"
    }
   ],
   "metadata":{
    "datalore":{
     "node_id":"uGQ5ss4gZzck4QVxfhrGsP",
     "type":"CODE",
     "hide_input_from_viewers":false,
     "hide_output_from_viewers":false,
     "report_properties":{
      "y":49
     }
    }
   }
  },
  {
   "cell_type":"code",
   "source":[
    "#THE ABOVE TABLES GIVES US THE STATISTICAL INTERPRETATION OF THE DATA\n",
    "#25% MEANS 25% OF VALUES IN THE TABLE ARE LESS THAN 1239 SIMILARLY 50% , 75% OF THE VALUES IN THE TABLE ARE LESS THAN 1551 AND 2073 "
   ],
   "execution_count":null,
   "outputs":[
    
   ],
   "metadata":{
    "datalore":{
     "node_id":"VQA4ziuYjRJTF738FpiW2J",
     "type":"CODE",
     "hide_input_from_viewers":false,
     "hide_output_from_viewers":false,
     "report_properties":{
      "y":60
     }
    }
   }
  },
  {
   "cell_type":"markdown",
   "source":[
    "So now we will check the co relation in the dataframe\n",
    "\n",
    "That means what is the relation between different coloumns in the dataframe\n",
    "\n",
    "Correlation:(Basically corelation shows which coloumn is related to which coloumn in the dataframe)\n",
    "\n",
    "1)Positive Correlation(if one variable increases other also increases-(directly proportional))\n",
    "\n",
    "2)Negative Correlation(if one value increases then other decreases(inversely proportional))"
   ],
   "attachments":{
    
   },
   "metadata":{
    "datalore":{
     "node_id":"VskAp1BpFr4g1F4p8oSWQr",
     "type":"MD",
     "hide_input_from_viewers":false,
     "hide_output_from_viewers":false,
     "report_properties":{
      "y":63
     }
    }
   }
  },
  {
   "cell_type":"code",
   "source":[
    "#Now lets check co relation between various coloumns\n",
    "\n",
    "correlation = gold_df.corr()\n",
    "print(correlation)\n",
    "#corr returns a dataframe with values from +1 to -1 which denotes compatiability between coloumns\n",
    "#so now correlation is a dataframe containing values between -1 to +1 "
   ],
   "execution_count":null,
   "outputs":[
    {
     "name":"stdout",
     "text":[
      "              SPX       GLD       USO       SLV   EUR\/USD\n",
      "SPX      1.000000  0.049345 -0.591573 -0.274055 -0.672017\n",
      "GLD      0.049345  1.000000 -0.186360  0.866632 -0.024375\n",
      "USO     -0.591573 -0.186360  1.000000  0.167547  0.829317\n",
      "SLV     -0.274055  0.866632  0.167547  1.000000  0.321631\n",
      "EUR\/USD -0.672017 -0.024375  0.829317  0.321631  1.000000\n"
     ],
     "output_type":"stream"
    }
   ],
   "metadata":{
    "datalore":{
     "node_id":"2iBIwKdnOBiHYIJCWKmSIg",
     "type":"CODE",
     "hide_input_from_viewers":false,
     "hide_output_from_viewers":false,
     "report_properties":{
      "y":70
     }
    }
   }
  },
  {
   "cell_type":"code",
   "source":[
    "#Now constructing a heatmap to understand the Correlation\n",
    "plt.figure(figsize=(8,8))\n",
    "sns.heatmap(correlation , cbar=True , square = True , fmt = '.3f' , annot = True , annot_kws={'size' : 8}, cmap = 'Greens')\n",
    "#Below is a heatmap with colour intensity increasing or decreasing based on corr values"
   ],
   "execution_count":null,
   "outputs":[
    {
     "data":{
      "text\/plain":[
       "<AxesSubplot:>"
      ]
     },
     "metadata":{
      
     },
     "output_type":"display_data"
    },
    {
     "data":{
      "image\/png":"[encoded data removed]"
     },
     "metadata":{
      "image\/png":{
       
      }
     },
     "output_type":"display_data"
    }
   ],
   "metadata":{
    "datalore":{
     "node_id":"FOvGAtXgWOBlMPAJOq60qa",
     "type":"CODE",
     "hide_input_from_viewers":false,
     "hide_output_from_viewers":false,
     "report_properties":{
      "y":79
     }
    }
   }
  },
  {
   "cell_type":"code",
   "source":[
    "#Now lets print the coloumn correlation individually to for better understanding of each coloumn\n",
    "print(correlation['SPX'] , \"\\n\")\n",
    "print(correlation['GLD'], \"\\n\")\n",
    "print(correlation['USO'], \"\\n\")\n",
    "print(correlation['SLV'], \"\\n\")\n",
    "print(correlation['EUR\/USD'], \"\\n\")"
   ],
   "execution_count":null,
   "outputs":[
    {
     "name":"stdout",
     "text":[
      "SPX        1.000000\n",
      "GLD        0.049345\n",
      "USO       -0.591573\n",
      "SLV       -0.274055\n",
      "EUR\/USD   -0.672017\n",
      "Name: SPX, dtype: float64 \n",
      "\n",
      "SPX        0.049345\n",
      "GLD        1.000000\n",
      "USO       -0.186360\n",
      "SLV        0.866632\n",
      "EUR\/USD   -0.024375\n",
      "Name: GLD, dtype: float64 \n",
      "\n",
      "SPX       -0.591573\n",
      "GLD       -0.186360\n",
      "USO        1.000000\n",
      "SLV        0.167547\n",
      "EUR\/USD    0.829317\n",
      "Name: USO, dtype: float64 \n",
      "\n",
      "SPX       -0.274055\n",
      "GLD        0.866632\n",
      "USO        0.167547\n",
      "SLV        1.000000\n",
      "EUR\/USD    0.321631\n",
      "Name: SLV, dtype: float64 \n",
      "\n",
      "SPX       -0.672017\n",
      "GLD       -0.024375\n",
      "USO        0.829317\n",
      "SLV        0.321631\n",
      "EUR\/USD    1.000000\n",
      "Name: EUR\/USD, dtype: float64 \n",
      "\n"
     ],
     "output_type":"stream"
    }
   ],
   "metadata":{
    "datalore":{
     "node_id":"SngfUsElJjsOIUBfFUbhq2",
     "type":"CODE",
     "hide_input_from_viewers":false,
     "hide_output_from_viewers":false,
     "report_properties":{
      "y":97
     }
    }
   }
  },
  {
   "cell_type":"code",
   "source":[
    "#Now lets see the distribution of the gold values \n",
    "#ie, what is the range of values of gold prices\n",
    "#for this we will use the Seaborn \"dist\" plot\n",
    "sns.displot(gold_df['GLD'] , color='green')"
   ],
   "execution_count":null,
   "outputs":[
    {
     "data":{
      "text\/plain":[
       "<seaborn.axisgrid.FacetGrid at 0x7fcca406ad00>"
      ]
     },
     "metadata":{
      
     },
     "output_type":"display_data"
    },
    {
     "data":{
      "image\/png":"[encoded data removed]"
     },
     "metadata":{
      "image\/png":{
       
      }
     },
     "output_type":"display_data"
    }
   ],
   "metadata":{
    "datalore":{
     "node_id":"7KB5vlN6qUIopLOrmxQ4qW",
     "type":"CODE",
     "hide_input_from_viewers":false,
     "hide_output_from_viewers":false,
     "report_properties":{
      "y":112
     }
    }
   }
  },
  {
   "cell_type":"markdown",
   "source":[
    "Now we will split the features and target coloumns\n",
    "\n",
    "Here target is gold price ie ,'GLD' AND THE FEATURES ARE SPX,USO,SLV,EUR\/USD.\n",
    " \n",
    "We will also remove the date coloumn as it is not required for our further analysis"
   ],
   "attachments":{
    
   },
   "metadata":{
    "datalore":{
     "node_id":"trrUhL8OaPXnFvdVCPaGAq",
     "type":"MD",
     "hide_input_from_viewers":false,
     "hide_output_from_viewers":false,
     "report_properties":{
      "y":127
     }
    }
   }
  },
  {
   "cell_type":"code",
   "source":[
    "#Now we will make two coloumns X and Y where X will contain all the features and Y will contain the target value\n",
    "#So we will drop Date and GLD coloumns from our dataframe and we will get a dataframe containing the features SPX,USO,SLV,EUR\/USD.\n",
    "\n",
    "X = gold_df.drop(['Date','GLD'] , axis=1) # axis = 1 becAuase we are dropping a coloumn\n",
    "Y = gold_df['GLD']"
   ],
   "execution_count":null,
   "outputs":[
    
   ],
   "metadata":{
    "datalore":{
     "node_id":"RxuIHS9dgaBA2vPWW1JAln",
     "type":"CODE",
     "hide_input_from_viewers":false,
     "hide_output_from_viewers":false,
     "report_properties":{
      "y":132
     }
    }
   }
  },
  {
   "cell_type":"code",
   "source":[
    "#NOW LET'S PRINT X\n",
    "print(X)"
   ],
   "execution_count":null,
   "outputs":[
    {
     "name":"stdout",
     "text":[
      "              SPX        USO      SLV   EUR\/USD\n",
      "0     1447.160034  78.470001  15.1800  1.471692\n",
      "1     1447.160034  78.370003  15.2850  1.474491\n",
      "2     1411.630005  77.309998  15.1670  1.475492\n",
      "3     1416.180054  75.500000  15.0530  1.468299\n",
      "4     1390.189941  76.059998  15.5900  1.557099\n",
      "...           ...        ...      ...       ...\n",
      "2285  2671.919922  14.060000  15.5100  1.186789\n",
      "2286  2697.790039  14.370000  15.5300  1.184722\n",
      "2287  2723.070068  14.410000  15.7400  1.191753\n",
      "2288  2730.129883  14.380000  15.5600  1.193118\n",
      "2289  2725.780029  14.405800  15.4542  1.182033\n",
      "\n",
      "[2290 rows x 4 columns]\n"
     ],
     "output_type":"stream"
    }
   ],
   "metadata":{
    "datalore":{
     "node_id":"kytqeNxMWwN8AGTIh7zxHt",
     "type":"CODE",
     "hide_input_from_viewers":false,
     "hide_output_from_viewers":false,
     "report_properties":{
      "y":137
     }
    }
   }
  },
  {
   "cell_type":"code",
   "source":[
    "#NOW LET'S PRINT Y\n",
    "print(Y)"
   ],
   "execution_count":null,
   "outputs":[
    {
     "name":"stdout",
     "text":[
      "0        84.860001\n",
      "1        85.570000\n",
      "2        85.129997\n",
      "3        84.769997\n",
      "4        86.779999\n",
      "           ...    \n",
      "2285    124.589996\n",
      "2286    124.330002\n",
      "2287    125.180000\n",
      "2288    124.489998\n",
      "2289    122.543800\n",
      "Name: GLD, Length: 2290, dtype: float64\n"
     ],
     "output_type":"stream"
    }
   ],
   "metadata":{
    "datalore":{
     "node_id":"cunWJ3XFFXXE4mb7pPwjv4",
     "type":"CODE",
     "hide_input_from_viewers":false,
     "hide_output_from_viewers":false,
     "report_properties":{
      "y":147
     }
    }
   }
  },
  {
   "cell_type":"markdown",
   "source":[
    "NOW AS WE HAVE SUCCESFULLY SPLITTED OUR DATAFRAME INTO FEATURES AND TARGET\n",
    "\n",
    "SO LETS SPLIT IT INTO TESTING AND TRAINING DATA NOW\n",
    "\n",
    "FOR FEATURES WE WILL FIT 80% OF VALUES INTO X_train and 20% of the values into X_test.\n",
    "\n",
    "SIMILARLY FOR TARGET ALSO WE WILL FIT 80% OF VALUES INTO X_train and 20% of the values into Y_test."
   ],
   "attachments":{
    
   },
   "metadata":{
    "datalore":{
     "node_id":"iqOaxcswutmP4GyADzYdcX",
     "type":"MD",
     "hide_input_from_viewers":false,
     "hide_output_from_viewers":false,
     "report_properties":{
      "y":156
     }
    }
   }
  },
  {
   "cell_type":"code",
   "source":[
    "#Now using sklearn model selection's train_test_split module we will easily split our data into training and test data\n",
    "\n",
    "X_train,X_test,Y_train,Y_test = train_test_split(X,Y,test_size = 0.2 , random_state = 3)\n",
    "#test_size = 0.2 means 20% of the data is test_set here\n",
    "#random_state = 3 means degree of randomness - the higher the value the more randomly the values will be splitted"
   ],
   "execution_count":null,
   "outputs":[
    
   ],
   "metadata":{
    "datalore":{
     "node_id":"LGohG1QkSCrJJPXR75E346",
     "type":"CODE",
     "hide_input_from_viewers":false,
     "hide_output_from_viewers":false,
     "report_properties":{
      "y":162
     }
    }
   }
  },
  {
   "cell_type":"markdown",
   "source":[
    "NOW OUR TRAINING AND TEST SETS ARE READY \n",
    "\n",
    "SO LETS PRINT THEM "
   ],
   "attachments":{
    
   },
   "metadata":{
    "datalore":{
     "node_id":"9NlCigg0repbmTNPYKZBxe",
     "type":"MD",
     "hide_input_from_viewers":false,
     "hide_output_from_viewers":false,
     "report_properties":{
      "y":167
     }
    }
   }
  },
  {
   "cell_type":"code",
   "source":[
    "print(X_train)"
   ],
   "execution_count":null,
   "outputs":[
    {
     "name":"stdout",
     "text":[
      "              SPX        USO        SLV   EUR\/USD\n",
      "1581  2107.780029  18.490000  15.580000  1.117905\n",
      "2172  2584.840088  11.380000  16.090000  1.166113\n",
      "985   1313.719971  29.799999  26.709999  1.250469\n",
      "1267  1733.150024  36.380001  21.049999  1.366699\n",
      "2042  2341.590088  10.040000  17.150000  1.086095\n",
      "...           ...        ...        ...       ...\n",
      "789   1120.760010  31.780001  38.439999  1.412469\n",
      "968   1318.859985  34.090000  27.049999  1.256124\n",
      "1667  2067.639893  15.650000  13.920000  1.109004\n",
      "1688  1913.849976  14.810000  13.940000  1.129344\n",
      "1898  2185.790039  10.210000  18.959999  1.113908\n",
      "\n",
      "[1832 rows x 4 columns]\n"
     ],
     "output_type":"stream"
    }
   ],
   "metadata":{
    "datalore":{
     "node_id":"54ejx16WnZGjVMFJoUB2bi",
     "type":"CODE",
     "hide_input_from_viewers":false,
     "hide_output_from_viewers":false,
     "report_properties":{
      "y":171
     }
    }
   }
  },
  {
   "cell_type":"code",
   "source":[
    "print(X_test)"
   ],
   "execution_count":null,
   "outputs":[
    {
     "name":"stdout",
     "text":[
      "              SPX        USO        SLV   EUR\/USD\n",
      "863   1236.469971  37.880001  30.490000  1.337167\n",
      "1351  1836.250000  36.689999  20.969999  1.372119\n",
      "2284  2672.629883  14.100000  15.520000  1.193374\n",
      "533   1086.839966  34.770000  17.860001  1.211402\n",
      "2247  2726.800049  12.350000  15.530000  1.241665\n",
      "...           ...        ...        ...       ...\n",
      "745   1317.369995  38.470001  34.270000  1.403666\n",
      "58    1325.760010  85.730003  18.320000  1.581403\n",
      "2100  2425.530029   9.270000  14.990000  1.147394\n",
      "283    851.919983  27.879999  12.540000  1.325803\n",
      "2060  2387.449951  10.260000  16.570000  1.090893\n",
      "\n",
      "[458 rows x 4 columns]\n"
     ],
     "output_type":"stream"
    }
   ],
   "metadata":{
    "datalore":{
     "node_id":"9TWWxBRxVsDbfve4Amagj6",
     "type":"CODE",
     "hide_input_from_viewers":false,
     "hide_output_from_viewers":false,
     "report_properties":{
      "y":181
     }
    }
   }
  },
  {
   "cell_type":"code",
   "source":[
    "print(Y_train)"
   ],
   "execution_count":null,
   "outputs":[
    {
     "name":"stdout",
     "text":[
      "1581    115.470001\n",
      "2172    121.309998\n",
      "985     153.759995\n",
      "1267    127.419998\n",
      "2042    119.529999\n",
      "           ...    \n",
      "789     174.580002\n",
      "968     151.619995\n",
      "1667    104.860001\n",
      "1688    109.199997\n",
      "1898    127.669998\n",
      "Name: GLD, Length: 1832, dtype: float64\n"
     ],
     "output_type":"stream"
    }
   ],
   "metadata":{
    "datalore":{
     "node_id":"HXlX2hk1xMGHsc7JdSY0vM",
     "type":"CODE",
     "hide_input_from_viewers":false,
     "hide_output_from_viewers":false,
     "report_properties":{
      "y":191
     }
    }
   }
  },
  {
   "cell_type":"code",
   "source":[
    "print(Y_test)"
   ],
   "execution_count":null,
   "outputs":[
    {
     "name":"stdout",
     "text":[
      "863     161.990005\n",
      "1351    127.580002\n",
      "2284    124.570000\n",
      "533     118.970001\n",
      "2247    125.720001\n",
      "           ...    \n",
      "745     147.830002\n",
      "58       93.459999\n",
      "2100    115.620003\n",
      "283      88.800003\n",
      "2060    120.839996\n",
      "Name: GLD, Length: 458, dtype: float64\n"
     ],
     "output_type":"stream"
    }
   ],
   "metadata":{
    "datalore":{
     "node_id":"JyzpRDw68eDa2TsQjyNjEz",
     "type":"CODE",
     "hide_input_from_viewers":false,
     "hide_output_from_viewers":false,
     "report_properties":{
      "y":200
     }
    }
   }
  },
  {
   "cell_type":"markdown",
   "source":[
    "SO IT'S TIME TO BUILD OUR MODEL NOW USING RANDOMFOREST REGRESSOR AS OUR Training and Test Datasets ARE READY"
   ],
   "attachments":{
    
   },
   "metadata":{
    "datalore":{
     "node_id":"keRjyfMJ5onNz7m0NxvKKG",
     "type":"MD",
     "hide_input_from_viewers":false,
     "hide_output_from_viewers":false,
     "report_properties":{
      "y":209
     }
    }
   }
  },
  {
   "cell_type":"code",
   "source":[
    "#first let's make a random forest with n_estimators = some value\n",
    "#n_estimators basically means the number of decision trees the random forest will contain\n",
    "regressor = RandomForestRegressor(n_estimators = 1000)"
   ],
   "execution_count":null,
   "outputs":[
    
   ],
   "metadata":{
    "datalore":{
     "node_id":"iwc4U7uyomIZJ1oHp3XnRw",
     "type":"CODE",
     "hide_input_from_viewers":false,
     "hide_output_from_viewers":false,
     "report_properties":{
      "y":212
     }
    }
   }
  },
  {
   "cell_type":"code",
   "source":[
    "#NOW LET'S TRAIN THE MODEL USING X_train and Y_train\n",
    "#BASICALLY FEED THE DATASET INTO THE RANDOM FOREST\n",
    "\n",
    "regressor.fit(X_train,Y_train)\n",
    "print(Y_test)\n",
    "\n",
    "#AFTER THE DATASET IS SORTED BASED ON ALL FEATURES WE WILL FEED X_test values into the random forest model and compare those values with Y_train "
   ],
   "execution_count":null,
   "outputs":[
    {
     "name":"stdout",
     "text":[
      "863     161.990005\n",
      "1351    127.580002\n",
      "2284    124.570000\n",
      "533     118.970001\n",
      "2247    125.720001\n",
      "           ...    \n",
      "745     147.830002\n",
      "58       93.459999\n",
      "2100    115.620003\n",
      "283      88.800003\n",
      "2060    120.839996\n",
      "Name: GLD, Length: 458, dtype: float64\n"
     ],
     "output_type":"stream"
    }
   ],
   "metadata":{
    "datalore":{
     "node_id":"7GygD6c64zv0ficU5MkXxT",
     "type":"CODE",
     "hide_input_from_viewers":false,
     "hide_output_from_viewers":false,
     "report_properties":{
      "y":216
     }
    }
   }
  },
  {
   "cell_type":"code",
   "source":[
    "#NOW LETS TAKE THE PREDICTION OF THE MODEL BY FEEDING X_train into the model\n",
    "gold_price_predictions = regressor.predict(X_test)\n",
    "print(gold_price_predictions)"
   ],
   "execution_count":null,
   "outputs":[
    {
     "name":"stdout",
     "text":[
      "[163.96318989 127.54134908 124.20064966 119.65016889 125.9637589\n",
      "  86.11498812 171.79794161 136.84125031 106.90383082 132.89773165\n",
      " 120.64460926 124.77958034 143.41947851 104.57063995  80.81354908\n",
      " 119.77856016 140.36061932  90.28479058  91.50612939 128.3110123\n",
      " 125.78158913 147.82143976 116.57441167 153.1377292  129.41360866\n",
      " 129.44664081 118.24652107 111.42830046 168.43478204 158.04891799\n",
      " 125.96267189 154.07170157 127.05946946 122.62507783 116.33515146\n",
      " 154.67016009 115.03321016 120.55881124 103.92672201 105.46258039\n",
      " 134.83808908  85.76490966 155.72134121 121.31850002 122.35723091\n",
      " 155.37891055 120.51809003 116.59195993 168.48857235 116.35716048\n",
      " 137.78310171 161.72396854 158.49570036 153.20206099 123.94176031\n",
      " 116.96641005 167.22719019 117.22727961 165.71750032  84.10487993\n",
      " 121.35521912 122.18883013 119.95892025 172.04122842 118.88410958\n",
      " 180.25299689 161.80058291 138.28387251 115.64916991  92.61655063\n",
      " 172.00483973 117.58229971 117.77744867 125.55257989 147.21352987\n",
      "  91.2347309   83.75402881  88.95774965 102.69776894 124.5220204\n",
      " 123.25772064 169.55247263 121.05471974 125.69456945 160.22322563\n",
      " 120.55641066 169.96661185 148.178147    87.07829944 126.60098049\n",
      " 118.74646041  90.03439008 118.78325988 116.66733793  89.07483906\n",
      " 137.59163236 160.74028112 131.02187373 105.5234912  122.65903972\n",
      " 120.66049028 124.12924107 108.1617599  115.41585079 114.17509922\n",
      " 120.74376066 158.56149245 126.76715923 119.88441957  91.04378974\n",
      " 125.1838695  161.72928828 159.96994234  87.80221931 138.78964072\n",
      " 167.28611861 154.79948065 109.15268057 109.0735482  124.76272006\n",
      " 113.81587181 117.44876983 160.97907181 121.78436034 143.97348648\n",
      " 116.00120067 163.99112134 119.72477956 112.36299094 148.51603966\n",
      " 104.21550929 121.84540993  78.01679939 161.15161778 125.73722059\n",
      " 132.08739096 120.10688974 107.66800987 153.2699903  114.46494037\n",
      " 161.81392021 128.47058198  91.71633133 121.29497258 130.99105953\n",
      "  89.47463986 120.41321997 120.10489072 112.83750078  90.66179113\n",
      "  91.15658914 117.51289024 150.25909041 113.26091967 132.62197197\n",
      " 117.25962128 119.31538031 156.41571885 127.92037341 114.12030021\n",
      " 119.68653031 141.17322898 115.69421111  92.28933881  89.8987804\n",
      " 165.86938262 112.28079981 115.60998068 119.84711124 114.57632985\n",
      "  92.2747586  117.36617923 154.75424244 152.43274068  93.07007004\n",
      " 125.89637081 104.32506961 155.43405092 115.37312048 119.92360824\n",
      "  91.74368933  91.85715041 153.14528068 173.32916726  79.28604951\n",
      " 125.92955006 119.25905021 150.58464083  91.09927097 164.28096177\n",
      " 138.5001873  117.38356102 141.27488013  82.20169815 124.88242918\n",
      " 118.8723309   90.97019063  94.16459981 173.67476694 164.72784119\n",
      " 168.01210026 139.77834163 118.33764085 130.63738109 124.25674063\n",
      " 129.28803895 121.52197003 122.1286788  127.14364045 103.61151026\n",
      " 115.93513069 132.67198933 164.93118823 125.6374402  113.79359205\n",
      " 123.07760037  82.12453073 102.81644859 121.52842891 163.67489068\n",
      " 121.31475951  87.37481063 127.44941023 108.1229692  158.22125205\n",
      " 164.57838995 123.98560013 124.53897024 146.42263847  89.75645923\n",
      "  88.52558038 115.43953053 108.44635015 128.46810881 108.44065989\n",
      " 114.76915006 167.62894907 120.01822018 106.93088933 158.58230879\n",
      " 125.02872905 114.40789131 103.59667016 149.96473872 166.58976908\n",
      " 171.33395306  92.28812903 114.65033039 119.05717936 113.46876106\n",
      " 160.13652519 120.28862927  72.68983205 118.99039349 115.40139035\n",
      " 166.97612842 118.78738034 114.60119961  94.27473936 117.00530151\n",
      " 128.15409869 114.3577497  156.19567024 119.30985072 118.66802149\n",
      " 161.31231091 118.57439052  95.04975926 118.1794513  166.5591411\n",
      " 111.2449287  146.72910215 118.86372058  86.52359891 171.65398165\n",
      " 155.071748   162.61447092  84.50935816 119.68086403 108.34779996\n",
      "  92.76936987  72.40788955  93.11055972 117.65050025 176.8348495\n",
      " 115.95010124 123.5669096   87.11708901 113.50715065 112.08125004\n",
      " 161.71481401 118.7660712   87.23743788 168.69499861 125.25891012\n",
      " 126.10296975 121.33531015 116.82727038  90.05488969 146.63592026\n",
      " 108.92857919  91.70184828 118.37308969 152.71832227 123.01436952\n",
      " 142.87907874 148.17071106 108.33555959 129.48154236 112.11189006\n",
      " 114.14494041 115.26931005 157.27556806  83.52523872 124.66189\n",
      "  91.4928696  113.57899927 127.03266819  92.32102004 129.80721112\n",
      " 124.49281932 128.04764862 121.88621898  90.07901958  86.87323827\n",
      " 136.68228915 165.49772117 169.70402954 159.93218343 124.0781298\n",
      " 106.5933504  116.41312003 124.50712951  91.80194902 167.08838852\n",
      "  91.6890892  127.91938108 117.55527094 166.04227878 115.07901986\n",
      " 163.14163207 168.67029889  84.1760196  117.32211035 101.93173903\n",
      " 130.43856126 112.82656941  80.7285089   92.34541996 135.80974942\n",
      "  98.68647956 117.56793864 116.53301088 118.87152022 126.00769064\n",
      " 115.06434005  97.14822138  73.23334909 118.18701985  89.41004041\n",
      " 135.04561961 113.47670965 114.48803987 110.65871102  85.93625877\n",
      " 113.23981091 126.43197076 156.25891798 119.73459986  77.30642\n",
      " 113.65103093  86.85303803 114.77822891  96.12048201 115.73151025\n",
      " 125.13837942 114.11897046 118.7153605  119.27584047 125.62135854\n",
      " 111.88526175 109.10799964 165.59812192  96.16345872 121.58823119\n",
      "  92.06201029 115.97984121 110.85365928 155.77213388 117.58272973\n",
      " 154.29212045  86.48802887 141.52267837 110.23843857 106.48488994\n",
      " 128.11456793 118.85104955 119.90820011 118.02853056 147.69102157\n",
      " 109.49888906 135.52600142 158.62860961 107.21566961 102.57449945\n",
      " 167.62922931 120.10941106 140.62036058 104.24217978  94.17229939\n",
      " 114.14766131 123.49103093 109.65562853 167.3598708  170.95631183\n",
      " 117.89991931 169.03332743 126.30800097 160.6809251   95.7220796\n",
      "  99.16025932 125.45099998  72.8744005   88.64815971  93.64704058\n",
      " 148.39743781 114.3338215  108.25001924 122.95085886  89.85442966\n",
      " 149.02036125  93.83651824  86.15081898 106.75363081  74.22314994\n",
      " 134.2582797  167.2505719  117.52221997 117.76970902  96.53383164\n",
      " 126.22411004 128.00521081 113.91640004 126.79944999 127.35586942\n",
      " 116.10141076  95.67170939 123.38324935 126.13265049  89.74934089\n",
      " 133.57761008 118.5916507  115.91059834 145.23925957  93.8612207\n",
      " 116.56336966  87.83891021 119.67002986]\n"
     ],
     "output_type":"stream"
    }
   ],
   "metadata":{
    "datalore":{
     "node_id":"6ZGgqW9NubD90qyXp41kHA",
     "type":"CODE",
     "hide_input_from_viewers":false,
     "hide_output_from_viewers":false,
     "report_properties":{
      "y":228
     }
    }
   }
  },
  {
   "cell_type":"code",
   "source":[
    "#Now lets calculate the error score(also called R SQUARED ERROR) i.e a value that will show us the up's and down's between the dataset we got and the dataset which is already present i.e Y_test\n",
    "#metrics is mopdule in scikit learn used specifically for this calculating error and accuracy scores\n",
    "max_error = metrics.max_error(Y_test,gold_price_predictions) #THIS IS MAXIMUM DEVIATION IN THE DATA\n",
    "error_score = metrics.r2_score(Y_test , gold_price_predictions) #THIS IS CALLED THE R SQUARED ERROR\n",
    "print(\"The max error is : \" , max_error)\n",
    "print(\"The error score is : \" , error_score)"
   ],
   "execution_count":null,
   "outputs":[
    {
     "name":"stdout",
     "text":[
      "The max error is :  25.01395934200022\n",
      "The error score is :  0.9854703110322889\n"
     ],
     "output_type":"stream"
    }
   ],
   "metadata":{
    "datalore":{
     "node_id":"LtUoC50xObt8alzgTtS0it",
     "type":"CODE",
     "hide_input_from_viewers":false,
     "hide_output_from_viewers":false,
     "report_properties":{
      "y":242
     }
    }
   }
  },
  {
   "cell_type":"markdown",
   "source":[
    "0.9855 represents that our model is a good one keeping in mind the huge amount of data we have added\n",
    "\n",
    "If we were to get 0.9855 if we had a small dataset then this value would not have been good\n",
    "\n",
    "For small datasets if we want to increase the accuracy of model we will be using Recurrent Neural Networks in Deep Learning"
   ],
   "attachments":{
    
   },
   "metadata":{
    "datalore":{
     "node_id":"hB0FoF8NLYPg5tZJG6Um82",
     "type":"MD",
     "hide_input_from_viewers":false,
     "hide_output_from_viewers":false,
     "report_properties":{
      "y":249
     }
    }
   }
  },
  {
   "cell_type":"code",
   "source":[
    "#LET'S DO A BETTER VISUALISATION BY PLOTTING A GRAPH FOR THIS\n",
    "#So to avoid an error while plotting the plot  we will first convert Y_test into a list\n",
    "\n",
    "Y_test = list(Y_test)\n",
    "print(Y_test)\n",
    "\n",
    "#Before this Y_test was a series dataframe and now it's converted to a list"
   ],
   "execution_count":null,
   "outputs":[
    {
     "name":"stdout",
     "text":[
      "[161.990005, 127.580002, 124.57, 118.970001, 125.720001, 85.129997, 171.470001, 155.330002, 108.089996, 130.589996, 119.82, 124.599998, 142.380005, 105.699997, 80.760002, 123.709999, 139.050003, 88.25, 92.309998, 127.839996, 126.300003, 149.880005, 117.730003, 154.669998, 130.559998, 130.619995, 119.769997, 112.059998, 170.850006, 157.770004, 126.230003, 152.990005, 128.830002, 122.900002, 115.989998, 155.360001, 116.010002, 121.129997, 104.68, 107.730003, 133.509995, 84.769997, 159.300003, 121.239998, 122.959999, 156.300003, 119.68, 116.080002, 169.630005, 116.099998, 135.199997, 161.960007, 159.460007, 151.619995, 124.389999, 115.779999, 167.559998, 115.550003, 165.800003, 84.459999, 122.129997, 122.07, 119.330002, 172.339996, 119.410004, 181.809998, 160.630005, 135.110001, 114.739998, 93.129997, 172.100006, 117.75, 118.519997, 124.790001, 145.649994, 91.230003, 82.75, 89.220001, 102.839996, 124.150002, 121.559998, 172.940002, 120.050003, 127.010002, 159.369995, 120.669998, 170.399994, 147.380005, 87.239998, 126.559998, 118.360001, 89.330002, 117.68, 115.839996, 88.279999, 141.110001, 162.020004, 129.520004, 107.099998, 122.809998, 122.379997, 123.639999, 106.129997, 115.68, 115.089996, 119.040001, 161.220001, 128.470001, 121.790001, 88.989998, 128.119995, 162.600006, 138.720001, 88.839996, 138.860001, 168.029999, 154.770004, 107.790001, 110.400002, 125.489998, 113.68, 118.769997, 161.080002, 123.139999, 145.929993, 117.57, 163.160004, 120.32, 112.669998, 173.529999, 104.389999, 122.699997, 79.75, 163.169998, 125.470001, 132.809998, 122.290001, 108.589996, 153.520004, 112.290001, 162.190002, 130.229996, 90.949997, 121.18, 130.990005, 89.150002, 120.010002, 119.790001, 109.699997, 90.279999, 91.449997, 115.519997, 152.619995, 112.040001, 132.449997, 115.489998, 119.720001, 156.990005, 127.349998, 115.639999, 121.190002, 137.660004, 117.400002, 92.269997, 90.300003, 166.399994, 111.540001, 115.879997, 119.580002, 114.099998, 92.290001, 118.059998, 156.220001, 155.919998, 93.150002, 124.779999, 104.099998, 155.380005, 115.699997, 119.230003, 91.93, 91.879997, 152.080002, 175.779999, 72.800003, 125.029999, 118.989998, 152.710007, 91.330002, 162.300003, 140.809998, 118.480003, 155.759995, 83.459999, 125.959999, 117.959999, 91.25, 93.400002, 171.800003, 162.100006, 165.309998, 138.539993, 118.110001, 130.100006, 123.779999, 129.770004, 121.330002, 121.730003, 128.110001, 103.559998, 115.059998, 131.199997, 164.860001, 126.300003, 112.660004, 122.389999, 82.18, 103.559998, 119.940002, 162.940002, 122.080002, 87.989998, 126.449997, 107.790001, 159.669998, 163.259995, 122.879997, 124.769997, 151.990005, 90.900002, 91.309998, 115.599998, 108.949997, 129.869995, 109.43, 116.330002, 168.350006, 121.730003, 107.559998, 160.779999, 125.410004, 114.0, 104.260002, 150.479996, 168.110001, 171.050003, 92.529999, 114.419998, 118.589996, 113.150002, 159.309998, 120.739998, 70.0, 118.239998, 115.059998, 169.309998, 117.540001, 113.529999, 94.779999, 117.220001, 128.990005, 113.639999, 157.160004, 118.470001, 119.870003, 160.210007, 118.93, 95.449997, 117.959999, 168.0, 109.860001, 146.869995, 118.639999, 87.0, 173.610001, 134.100006, 164.399994, 83.459999, 119.82, 117.110001, 93.25, 73.790001, 93.269997, 118.760002, 179.100006, 116.720001, 125.32, 87.269997, 112.57, 110.489998, 162.009995, 120.089996, 86.5, 164.289993, 125.980003, 125.739998, 120.110001, 115.839996, 89.269997, 147.770004, 108.699997, 91.980003, 118.82, 152.440002, 123.349998, 139.139999, 146.380005, 111.019997, 129.089996, 111.970001, 114.470001, 113.75, 133.970001, 84.480003, 128.460007, 90.699997, 113.800003, 128.179993, 93.260002, 129.860001, 124.269997, 129.210007, 121.620003, 89.419998, 89.900002, 137.899994, 166.550003, 171.050003, 161.029999, 123.389999, 105.900002, 114.459999, 124.959999, 93.059998, 167.270004, 92.040001, 127.150002, 116.040001, 167.289993, 114.120003, 163.669998, 171.699997, 86.519997, 116.089996, 100.5, 132.130005, 111.5, 83.309998, 92.290001, 136.5, 97.959999, 115.199997, 115.57, 119.510002, 125.389999, 113.660004, 97.889999, 72.709999, 120.050003, 90.809998, 138.369995, 115.540001, 115.730003, 111.089996, 85.43, 110.75, 125.980003, 156.559998, 119.040001, 76.790001, 110.449997, 86.230003, 116.620003, 96.360001, 115.940002, 124.18, 112.839996, 118.68, 119.580002, 125.989998, 111.760002, 109.300003, 166.020004, 95.870003, 120.949997, 93.059998, 116.07, 110.75, 155.130005, 117.599998, 157.320007, 85.389999, 141.630005, 109.790001, 107.110001, 130.169998, 115.940002, 121.480003, 117.919998, 151.050003, 108.860001, 136.029999, 160.619995, 106.300003, 102.43, 173.490005, 121.400002, 142.149994, 104.080002, 93.900002, 115.379997, 122.790001, 109.610001, 168.179993, 172.050003, 117.739998, 167.179993, 127.260002, 159.429993, 94.779999, 99.82, 126.940002, 71.099998, 89.57, 93.800003, 169.550003, 114.769997, 108.470001, 122.669998, 89.849998, 153.339996, 93.760002, 84.580002, 105.970001, 76.029999, 136.880005, 166.089996, 118.190002, 117.050003, 97.730003, 125.370003, 127.57, 114.32, 127.019997, 124.269997, 114.730003, 96.18, 121.290001, 125.32, 88.639999, 132.199997, 118.550003, 115.940002, 147.830002, 93.459999, 115.620003, 88.800003, 120.839996]\n"
     ],
     "output_type":"stream"
    }
   ],
   "metadata":{
    "datalore":{
     "node_id":"upGC572rSg9qBthwB8NXFA",
     "type":"CODE",
     "hide_input_from_viewers":false,
     "hide_output_from_viewers":false,
     "report_properties":{
      "y":254
     }
    }
   }
  },
  {
   "cell_type":"code",
   "source":[
    "#Now lets plot one plot for Y_test and one plot for gold_price predictions made using the random forest model\n",
    "plt.plot(Y_test ,'o:r' , label = \"Actual Value\")\n",
    "plt.plot(gold_price_predictions,'o:b',label = \"Predicted Values\")\n",
    "plt.title(\"Actual Price vs Predicted Price\")\n",
    "plt.xlabel(\"Number of values\")\n",
    "plt.ylabel(\"Gold Prices\")\n",
    "plt.legend()\n",
    "plt.show()"
   ],
   "execution_count":null,
   "outputs":[
    {
     "data":{
      "image\/png":"[encoded data removed]"
     },
     "metadata":{
      "image\/png":{
       
      }
     },
     "output_type":"display_data"
    }
   ],
   "metadata":{
    "datalore":{
     "node_id":"PP2BfZmxotEiEPW5kCm5iY",
     "type":"CODE",
     "hide_input_from_viewers":false,
     "hide_output_from_viewers":false,
     "report_properties":{
      "y":261
     }
    }
   }
  },
  {
   "cell_type":"markdown",
   "source":[
    "You can see that the actual values are slighly higher than the predicted values.\n",
    "\n",
    "But still with a 0.98 error this is a good model\n",
    "\n",
    "Therefore we have succesfully Made a model to predict Gold Prices...."
   ],
   "attachments":{
    
   },
   "metadata":{
    "datalore":{
     "node_id":"cseJdN7oshmkxHnEvIsOxV",
     "type":"MD",
     "hide_input_from_viewers":false,
     "hide_output_from_viewers":false,
     "report_properties":{
      "y":276
     }
    }
   }
  }
 ],
 "metadata":{
  "kernelspec":{
   "display_name":"Python",
   "language":"python",
   "name":"python"
  },
  "datalore":{
   "version":1,
   "computation_mode":"JUPYTER",
   "package_manager":"pip",
   "base_environment":"default",
   "packages":[
    
   ]
  }
 },
 "nbformat":4,
 "nbformat_minor":4
}